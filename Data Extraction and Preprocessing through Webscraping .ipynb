{
 "cells": [
  {
   "cell_type": "code",
   "execution_count": 21,
   "id": "e4c214ca",
   "metadata": {},
   "outputs": [
    {
     "name": "stdout",
     "output_type": "stream",
     "text": [
      "“The world as we have created it is a process of our thinking. It cannot be changed without changing our thinking.”\n",
      "“It is our choices, Harry, that show what we truly are, far more than our abilities.”\n",
      "“There are only two ways to live your life. One is as though nothing is a miracle. The other is as though everything is a miracle.”\n",
      "“The person, be it gentleman or lady, who has not pleasure in a good novel, must be intolerably stupid.”\n",
      "“Imperfection is beauty, madness is genius and it's better to be absolutely ridiculous than absolutely boring.”\n",
      "“Try not to become a man of success. Rather become a man of value.”\n",
      "“It is better to be hated for what you are than to be loved for what you are not.”\n",
      "“I have not failed. I've just found 10,000 ways that won't work.”\n",
      "“A woman is like a tea bag; you never know how strong it is until it's in hot water.”\n",
      "“A day without sunshine is like, you know, night.”\n"
     ]
    }
   ],
   "source": [
    "from selenium import webdriver\n",
    "from selenium.webdriver.common.by import By\n",
    "from bs4 import BeautifulSoup \n",
    "from urllib.request import urlopen\n",
    "import requests \n",
    "\n",
    "# Opening the link using Webdriver\n",
    "driver = webdriver.Chrome()\n",
    "driver.get(\"https://quotes.toscrape.com/\")\n",
    "\n",
    "# Navigating to the next page by clicking next\n",
    "driver.find_element(By.CSS_SELECTOR, \"body > div.container > div:nth-child(2) > div.col-md-8 > nav > ul > li > a\").click()\n",
    "\n",
    "# Get the link of the current page and opening\n",
    "get_url = driver.current_url\n",
    "driver.quit()\n",
    "\n",
    "# Taking raw web content in bytes format and converting it into a readable string format using the UTF-8 encoding\n",
    "import requests \n",
    "url = 'https://quotes.toscrape.com/'\n",
    "page = requests.get(url)\n",
    "\n",
    "# Use beautifulSoup package to parse and read them\n",
    "soup = BeautifulSoup(page.content, \"html.parser\")\n",
    "\n",
    "# Print out each quote\n",
    "for i in soup.find_all(class_=\"text\"):\n",
    "    print(i.get_text())\n"
   ]
  }
 ],
 "metadata": {
  "kernelspec": {
   "display_name": "Python 3 (ipykernel)",
   "language": "python",
   "name": "python3"
  },
  "language_info": {
   "codemirror_mode": {
    "name": "ipython",
    "version": 3
   },
   "file_extension": ".py",
   "mimetype": "text/x-python",
   "name": "python",
   "nbconvert_exporter": "python",
   "pygments_lexer": "ipython3",
   "version": "3.11.5"
  }
 },
 "nbformat": 4,
 "nbformat_minor": 5
}
